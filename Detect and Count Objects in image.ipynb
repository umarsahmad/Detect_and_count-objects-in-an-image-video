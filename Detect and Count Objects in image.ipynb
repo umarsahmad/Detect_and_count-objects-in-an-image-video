{
 "cells": [
  {
   "cell_type": "markdown",
   "metadata": {
    "id": "DSCkTW_FM0bR"
   },
   "source": [
    "The goal of this project is to detect and count objects in a image or a video. Opencv is used for image processing and Haar Cascade for object detection. We can also create our own Haar Cascade classifier."
   ]
  },
  {
   "cell_type": "code",
   "execution_count": null,
   "metadata": {
    "id": "w8E766U7x4l-"
   },
   "outputs": [],
   "source": [
    "from PIL import Image\n",
    "import cv2\n",
    "import numpy as np\n",
    "import requests"
   ]
  },
  {
   "cell_type": "code",
   "execution_count": null,
   "metadata": {
    "id": "fXZ-0T5DNZt7"
   },
   "outputs": [],
   "source": [
    "# make sure you first download xml files for car and bus both and save them in the colab side directory\n",
    "#read image form url by creating an object\n",
    "image = Image.open(requests.get('https://media.cntraveler.com/photos/53e2f41cdddaa35c30f66775/master/pass/highway-traffic.jpg', stream=True).raw)\n",
    "image = image.resize((450,250))\n",
    "image_arr = np.array(image)\n",
    "image"
   ]
  },
  {
   "cell_type": "code",
   "execution_count": null,
   "metadata": {
    "id": "dmPirrV5Oiaq"
   },
   "outputs": [],
   "source": [
    "#Perform some image transformation like convert it ito gray scale\n",
    "grey = cv2.cvtColor(image_arr, cv2.COLOR_BGR2GRAY)\n",
    "Image.fromarray(grey)"
   ]
  },
  {
   "cell_type": "code",
   "execution_count": null,
   "metadata": {
    "id": "efZuzn-hmYV5"
   },
   "outputs": [],
   "source": [
    "#now apply gaussian blur to remove the noise of the image. Instead of applying a box filter consisting of equal filter coefficients, we used gaussian kernel.\n",
    "#which is done through cv2.GaussianBlur(), specify width and height of the kernel which should be positive and odd.\n",
    "blur = cv2.GaussianBlur(grey, (5,5), 0)\n",
    "Image.fromarray(blur)"
   ]
  },
  {
   "cell_type": "code",
   "execution_count": null,
   "metadata": {
    "id": "hOAryQB0njky"
   },
   "outputs": [],
   "source": [
    "#now dilate the image which is opposite of erosion. If atleadt one pixel under the kernel is 1 the pixel element of the image becomes 1. So it increases the white regions in the image or i'd say the size of foreground objects increases.\n",
    "dilated = cv2.dilate(blur, np.ones(3,3))\n",
    "Image.fromarray(dilated)"
   ]
  },
  {
   "cell_type": "code",
   "execution_count": null,
   "metadata": {
    "id": "oWCTbgKNoqYC"
   },
   "outputs": [],
   "source": [
    "#now perform Morphology transformation. morphologyEx is used to find the difference bw dilation and erosion of an image. \n",
    "#And for that purpose you may need eliptical shaped kernels which we can get thourgh cv2.getStructuringElement() function of OpenCV.\n",
    "#just pass the shape and size of the desired kernel\n",
    "kernel = cv2.getStructuringElement(cv2.MORPH_ELLIPSE, (2,2))\n",
    "close = cv2.morphology.Ex(dilated, cv2.MORPH_CLOSE, kernel)\n",
    "Image.fromarray(close)\n"
   ]
  },
  {
   "cell_type": "code",
   "execution_count": null,
   "metadata": {
    "id": "ffRV4d35qk3d"
   },
   "outputs": [],
   "source": [
    "#now we need car cascade to detect cars. Upload it into colab directory and import by setting the path. \n",
    "#OpenCV provides Cascade Classifier Training i.e pretrained models, that can be read using cv2.CascadeClassifier() method.\n",
    "#detectMultiScale is used as we have to detect multiple objects and also of different size in the input image. It gives the output as the list rectangles.\n",
    "car_cascade_src = \"cars.xml\"\n",
    "car_cascade = cv2.CascadeClassifier(car_cascade_src)\n",
    "cars = car_cascade.detectMultiScale(close, 1.1, 1)"
   ]
  },
  {
   "cell_type": "code",
   "execution_count": null,
   "metadata": {
    "id": "UGbV-NA8tOtt"
   },
   "outputs": [],
   "source": [
    "# we will use the above returned contours to draw rectangles around the detected cars. We se that it creates a red boundary around all the detected cars.\n",
    "cnt = 0\n",
    "for (x,y,w,h) in cars:\n",
    "  cv2.rectangle(image_array, (x,y), (x+w, y+h), (255,0,0), 2)\n",
    "  cnt+=1\n",
    "print(cnt, \"cars found\")\n",
    "Image.fromarray(image_arr)\n"
   ]
  },
  {
   "cell_type": "code",
   "execution_count": null,
   "metadata": {
    "id": "eFX53DpYu64o"
   },
   "outputs": [],
   "source": [
    "# repeat the same process for bus\n",
    "\n",
    "image2 = Image.open(requests.get('', stream=True).raw)\n",
    "image2 = image2.resize((450,250))\n",
    "image2_arr = np.array(image2)\n",
    "image2"
   ]
  },
  {
   "cell_type": "code",
   "execution_count": null,
   "metadata": {
    "id": "MvzqaTfEvXlp"
   },
   "outputs": [],
   "source": [
    "grey2 = cv2.cvtColor(image2_arr, cv2.COLOR_BGR2GRAY)\n",
    "Image.fromarray(grey)"
   ]
  },
  {
   "cell_type": "code",
   "execution_count": null,
   "metadata": {
    "id": "YYqnuK7jvaFK"
   },
   "outputs": [],
   "source": [
    "bus_cascade_src = \"bus.xml\"\n",
    "bus_cascade = cv2.CascadeClassifier(car_cascade_src)\n",
    "bus = car_cascade.detectMultiScale(close, 1.1, 1)"
   ]
  },
  {
   "cell_type": "code",
   "execution_count": null,
   "metadata": {
    "id": "f6y3Z8iBvmTh"
   },
   "outputs": [],
   "source": [
    "cnt = 0\n",
    "for (x,y,w,h) in bus:\n",
    "  cv2.rectangle(image2_array, (x,y), (x+w, y+h), (255,0,0), 2)\n",
    "  cnt+=1\n",
    "print(cnt, \"bus found\")\n",
    "Image.fromarray(image2_arr)"
   ]
  },
  {
   "cell_type": "code",
   "execution_count": null,
   "metadata": {
    "id": "nWD4hgr4wXNc"
   },
   "outputs": [],
   "source": [
    "#now we will perform vehicle detection and counting in a video. we use cv2.VideoWriter() method to create output video from frames captured. \n",
    "#First parameter is the path with extension, Second is the codec for the output format, third frames per second, and finally height and width \n",
    "cascade_src = \"cars.xml\"\n",
    "video_src = \"Cars.mp4\"\n",
    "\n",
    "cap = cv2.VideoCapture(video_src)\n",
    "car_cascade = cv2.CascadeClassifier(cascade_src)\n",
    "video = cv2.VideoWriter(\"result.avi\", cv2.VideoWriter_fourcc(*'DIVX'), 15, (450, 250))\n"
   ]
  },
  {
   "cell_type": "code",
   "execution_count": null,
   "metadata": {
    "id": "xKscGNcgylDm"
   },
   "outputs": [],
   "source": [
    "# now we will read the frames one by one from the video, convert them to greyscale and use car cascade to detect all the cars in that particular frame.\n",
    "# in the end write the video using video.write() and save using video.release() to the given path.\n",
    "while True:\n",
    "  ret, img = cap.read()\n",
    "\n",
    "  if(type(img) == type(None)):\n",
    "    break;\n",
    "  \n",
    "  gray = cv2.cvtCOLOR(img, cv2.COLOR_BGR2GRAY)\n",
    "  cars = car_cascade.detectMultiScale(gray, 1.1, 2)\n",
    "\n",
    "  for (x,y,w,h) in cars:\n",
    "    cv2.rectangle(img, (x,y), (x+w, y+h), (0,255,255), 2)\n",
    "\n",
    "  video.write(img)\n",
    "\n",
    "video.release()\n"
   ]
  },
  {
   "cell_type": "markdown",
   "metadata": {
    "id": "EVVD0ghH1guL"
   },
   "source": [
    "We saw how we can use haar cascade fo robject detection. Different haar cascade can be used for different object detection we saw for car and bus.\n",
    "We can also create our own custom haar cascade for specific object."
   ]
  },
  {
   "cell_type": "code",
   "execution_count": null,
   "metadata": {
    "id": "bf7gptRh1R1B"
   },
   "outputs": [],
   "source": []
  }
 ],
 "metadata": {
  "colab": {
   "authorship_tag": "ABX9TyOWdFY66omC68Q/6LRcwQe/",
   "provenance": []
  },
  "kernelspec": {
   "display_name": "Python 3 (ipykernel)",
   "language": "python",
   "name": "python3"
  },
  "language_info": {
   "codemirror_mode": {
    "name": "ipython",
    "version": 3
   },
   "file_extension": ".py",
   "mimetype": "text/x-python",
   "name": "python",
   "nbconvert_exporter": "python",
   "pygments_lexer": "ipython3",
   "version": "3.9.12"
  }
 },
 "nbformat": 4,
 "nbformat_minor": 1
}
